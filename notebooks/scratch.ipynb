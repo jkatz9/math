{
 "cells": [
  {
   "cell_type": "code",
   "execution_count": 33,
   "metadata": {
    "vscode": {
     "languageId": "wolfram"
    }
   },
   "outputs": [],
   "source": [
    "Needs[\"WolframLanguageForJupyter`\"]\n",
    "Needs[\"LSPServer`\"];\n",
    "SetOptions[$Output, FormatType -> TraditionalForm];"
   ]
  },
  {
   "cell_type": "code",
   "execution_count": null,
   "metadata": {
    "vscode": {
     "languageId": "wolfram"
    }
   },
   "outputs": [
    {
     "data": {
      "text/html": [
       "<div><img alt=\"Output\" src=\"data:image/png;base64,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\"></div>"
      ],
      "text/plain": [
       "FormBox[RowBox[{\"(\", \"⁠\", GridBox[{{RowBox[{RowBox[{SuperscriptBox[\"a_\", \"2\"], \n",
       "\n",
       " \n",
       ">               \" \", RowBox[{\"(\", RowBox[{\"-\", \"b2\"}], \")\"}], \" \", \"c2\"}], \"+\", \n",
       "\n",
       " \n",
       ">             RowBox[{\"a_\", \" \", RowBox[{\"(\", \n",
       "\n",
       " \n",
       ">                 RowBox[{RowBox[{\"b_\", \" \", \"c2\", \" \", \n",
       "\n",
       " \n",
       ">                     RowBox[{\"(\", RowBox[{\"a2\", \"-\", \"d2\"}], \")\"}]}], \"+\", \n",
       "\n",
       " \n",
       ">                   RowBox[{\"a2\", \" \", \"d_\", \" \", \"d2\"}], \"-\", \n",
       "\n",
       " \n",
       ">                   RowBox[{\"b2\", \" \", \"c_\", \" \", \"d2\"}]}], \")\"}]}], \"+\", \n",
       "\n",
       " \n",
       ">             RowBox[{\"b_\", \" \", RowBox[{\"(\", \n",
       "\n",
       " \n",
       ">                 RowBox[{RowBox[{\"b_\", \" \", SuperscriptBox[\"c2\", \"2\"]}], \"+\", \"d2\"}], \n",
       "\n",
       " \n",
       ">                 \")\"}]}]}], RowBox[{RowBox[{SuperscriptBox[\"a_\", \"2\"], \" \", \"a2\", \n",
       "\n",
       " \n",
       ">               \" \", \"b2\"}], \"+\", RowBox[{\"a_\", \" \", \n",
       "\n",
       " \n",
       ">               RowBox[{\"(\", RowBox[{RowBox[{\"a2\", \" \", \"b_\", \" \", \n",
       "\n",
       " \n",
       ">                     RowBox[{\"(\", RowBox[{\"d2\", \"-\", \"a2\"}], \")\"}]}], \"+\", \"b2\"}], \n",
       "\n",
       " \n",
       ">                 \")\"}]}], \"-\", RowBox[{\"b_\", \" \", \n",
       "\n",
       " \n",
       ">               RowBox[{\"(\", RowBox[{RowBox[{\"a2\", \" \", \"b_\", \" \", \"c2\"}], \"-\", \n",
       "\n",
       " \n",
       ">                   RowBox[{\"b2\", \" \", \"c_\", \" \", \"d2\"}], \"+\", \n",
       "\n",
       " \n",
       ">                   RowBox[{\"b2\", \" \", \"c2\", \" \", \"d_\"}]}], \")\"}]}]}]}, \n",
       "\n",
       " \n",
       ">          {RowBox[{RowBox[{\"-\", RowBox[{\"a_\", \" \", \"c2\", \" \", \n",
       "\n",
       " \n",
       ">                 RowBox[{\"(\", RowBox[{RowBox[{\"b2\", \" \", \"c_\"}], \"+\", \n",
       "\n",
       " \n",
       ">                     RowBox[{\"d_\", \" \", \"d2\"}]}], \")\"}]}]}], \"+\", \n",
       "\n",
       " \n",
       ">             RowBox[{\"b_\", \" \", \"c2\", \" \", \n",
       "\n",
       " \n",
       ">               RowBox[{\"(\", RowBox[{RowBox[{\"a2\", \" \", \"c_\"}], \"+\", \n",
       "\n",
       " \n",
       ">                   RowBox[{\"c2\", \" \", \"d_\"}]}], \")\"}]}], \"+\", \n",
       "\n",
       " \n",
       ">             RowBox[{\"d2\", \" \", RowBox[{\"(\", \n",
       "\n",
       " \n",
       ">                 RowBox[{RowBox[{\"c_\", \" \", \"d_\", \" \", \n",
       "\n",
       " \n",
       ">                     RowBox[{\"(\", RowBox[{\"a2\", \"-\", \"d2\"}], \")\"}]}], \"-\", \n",
       "\n",
       " \n",
       ">                   RowBox[{RowBox[{\"b2\"}], \" \", SuperscriptBox[\"c_\", \"2\"]}], \"+\", \n",
       "\n",
       " \n",
       ">                   RowBox[{\"c2\", \" \", SuperscriptBox[\"d_\", \"2\"]}]}], \")\"}]}]}], \n",
       "\n",
       " \n",
       ">           RowBox[{RowBox[{\"a_\", \" \", \"a2\", \" \", \n",
       "\n",
       " \n",
       ">               RowBox[{\"(\", RowBox[{RowBox[{\"b2\", \" \", \"c_\"}], \"+\", \n",
       "\n",
       " \n",
       ">                   RowBox[{\"d_\", \" \", \"d2\"}]}], \")\"}]}], \"-\", \n",
       "\n",
       " \n",
       ">             RowBox[{RowBox[{\"a2\"}], \" \", \"b_\", \" \", \n",
       "\n",
       " \n",
       ">               RowBox[{\"(\", RowBox[{RowBox[{\"a2\", \" \", \"c_\"}], \"+\", \n",
       "\n",
       " \n",
       ">                   RowBox[{\"c2\", \" \", \"d_\"}]}], \")\"}]}], \"+\", \n",
       "\n",
       " \n",
       ">             RowBox[{\"b2\", \" \", RowBox[{\"(\", \n",
       "\n",
       " \n",
       ">                 RowBox[{RowBox[{\"c_\", \" \", \"d_\", \" \", \n",
       "\n",
       " \n",
       ">                     RowBox[{\"(\", RowBox[{\"d2\", \"-\", \"a2\"}], \")\"}]}], \"+\", \n",
       "\n",
       " \n",
       ">                   RowBox[{\"b2\", \" \", SuperscriptBox[\"c_\", \"2\"]}], \"-\", \n",
       "\n",
       " \n",
       ">                   RowBox[{\"c2\", \" \", SuperscriptBox[\"d_\", \"2\"]}]}], \")\"}]}]}]}}, \n",
       "\n",
       " \n",
       ">         Rule[RowSpacings, 1], Rule[ColumnSpacings, 1], Rule[RowAlignments, Baseline], \n",
       "\n",
       " \n",
       ">         Rule[ColumnAlignments, Center]], \"⁠\", \")\"}], TraditionalForm]\n"
      ]
     },
     "execution_count": 310,
     "metadata": {
      "text/html": [],
      "text/plain": []
     },
     "output_type": "execute_result"
    }
   ],
   "source": [
    "\n",
    "Ad[g_]:=Function[x,g.x.Inverse[g]];\n",
    "(* id=IdentityMatrix[2]; *)\n",
    "(* invo[g_]:=Tr[g]*id-g; *)\n",
    "(* tex=TeXForm; *)\n",
    "(* pretty=TraditionalForm[Simplify[#]]&; *)\n",
    "tbt[a_,b_,c_,d_]:={{a,b},{c,d}};\n",
    "g1=tbt[a_1,b_1,c_1,d_1];\n",
    "g2=tbt[a2,b2,c2,d2];\n",
    "$Assumptions=Det[g1]==1&&Det[g2]==1;\n",
    "Simplify[g1.g2.Inverse[g1].Inverse[g2]]\n",
    "\n"
   ]
  },
  {
   "cell_type": "code",
   "execution_count": null,
   "metadata": {
    "vscode": {
     "languageId": "wolfram"
    }
   },
   "outputs": [],
   "source": [
    "(* g=tbt[a,b,c,d]; *)\n",
    "(* h={{x,y},{z,-x}}; *)\n",
    "(* e1={1,0}; *)\n",
    "(* e2={0,1}; *)\n",
    "(* w = {{0,-1},{1,0}}; *)\n",
    "(* upper[u_]:={{1,u},{0,1}}; *)\n",
    "(* diag[a_]:={{a,0},{0,1/a}}; *)\n",
    "(* Simplify[Ad[Inverse[g]][upper[u].w],a d - b c ==1]//Expand//MatrixForm; *)\n",
    "(* g//tex; *)\n",
    "(* h//tex; *)\n",
    "(* Simplify[Ad[g][h],a*d-b*c==1]//{TraditionalForm[#],tex[#]}&; *)\n",
    "(* Simplify[Ad[g][h],a*d-b*c==1][[2,1]]//ExpandAll; *)\n",
    "(* Transpose[g].h.g//pretty; *)\n",
    "(* Simplify[invo[g],a*d-b*c ==1]//pretty; *)\n",
    "(* Tr[2*g-Tr[g]*id]; *)\n",
    "(* gamma = {{(t+u)/2,b},{c,(t-u)/2}}; *)\n",
    "(* Ad[upper[-X]][gamma]/.{t->a+d,u->a-d}//MatrixForm; *)"
   ]
  },
  {
   "attachments": {},
   "cell_type": "markdown",
   "metadata": {
    "tags": [
     "commentary"
    ]
   },
   "source": [
    "<!-- If $\\left( \\begin{array}{cc} x & y \\\\ z & -x \\\\ \\end{array} \\right)$ is in $\\mathfrak{sl}_2$, and $\\left( \\begin{array}{cc} a & b \\\\ c & d \\\\ \\end{array} \\right)$ is in $SL_2$, then  -->\n",
    "<!-- $$g.h.g^{-1} =\\left( \\begin{array}{cc} -a c y+x (2 a d-1)+b d z & a^2 y-2 a b x-b^2 z \\\\ c^2 (-y)+2 c d x+d^2 z & a c y-2 a d x-b d z+x \\\\ \\end{array} \\right)$$ -->\n",
    "<!-- If $e_i$ are standard basis vectors, then  -->\n",
    "<!-- $$\\langle e_2, (ghg^{-1})e_1 \\rangle =  -c^2y+2 c d x+d^2 z$$ -->\n",
    "<!-- where $c=\\langle e_2, ge_1\\rangle$ and $d = \\langle e_2,g e_2 \\rangle$  -->\n",
    "<!-- Let $Q_[A,B,C]$ denote the ternary quadratic form $(x,y,z)\\mapsto Ax^2+By^2+Cz^2$. -->\n",
    "<!--  -->\n",
    "<!-- Then $g.h.g^{-1} =\\twobytwo{Q_{[2ad-1,-ac,bd]}}{Q_{[-2ab,a^2,-b^2]}}{Q_{[2cd,-c^2,d^2]}}{Q_{[-2ad+1,ac,-bd]}}$ evaluated at $(x,y,z)$. "
   ]
  }
 ],
 "metadata": {
  "kernelspec": {
   "display_name": "Wolfram Language 13.1",
   "language": "Wolfram Language",
   "name": "wolframlanguage13.1"
  },
  "language_info": {
   "codemirror_mode": "mathematica",
   "file_extension": ".m",
   "mimetype": "application/vnd.wolfram.m",
   "name": "Wolfram Language",
   "pygments_lexer": "mathematica",
   "version": "12.0"
  },
  "orig_nbformat": 4
 },
 "nbformat": 4,
 "nbformat_minor": 2
}
